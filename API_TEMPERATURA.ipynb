{
  "nbformat": 4,
  "nbformat_minor": 0,
  "metadata": {
    "colab": {
      "name": "API_TEMPERATURA.ipynb",
      "provenance": [],
      "authorship_tag": "ABX9TyPjYV21ycJTMelIIh16iilp",
      "include_colab_link": true
    },
    "kernelspec": {
      "name": "python3",
      "display_name": "Python 3"
    },
    "language_info": {
      "name": "python"
    }
  },
  "cells": [
    {
      "cell_type": "markdown",
      "metadata": {
        "id": "view-in-github",
        "colab_type": "text"
      },
      "source": [
        "<a href=\"https://colab.research.google.com/github/GUIPETAV/repo_0/blob/main/API_TEMPERATURA.ipynb\" target=\"_parent\"><img src=\"https://colab.research.google.com/assets/colab-badge.svg\" alt=\"Open In Colab\"/></a>"
      ]
    },
    {
      "cell_type": "code",
      "execution_count": null,
      "metadata": {
        "colab": {
          "base_uri": "https://localhost:8080/"
        },
        "id": "ILOMiyTNWBE-",
        "outputId": "18f033fd-9df2-4c43-dc45-79585ee936d7"
      },
      "outputs": [
        {
          "output_type": "stream",
          "name": "stdout",
          "text": [
            "chuva leve 24.140000000000043 º C\n"
          ]
        }
      ],
      "source": [
        "import requests\n",
        "\n",
        "APY_KEY = \"fd6c8bc36a00d84fed980a169a9300c2\"\n",
        "cidade = 'serra'\n",
        "convert = 273.15\n",
        "\n",
        "Link = f\"https://api.openweathermap.org/data/2.5/weather?q={cidade}&appid={APY_KEY}&lang=pt_BR\"\n",
        "\n",
        "req = requests.get(Link)\n",
        "\n",
        "#print(req.json())\n",
        "\n",
        "req_dic = req.json()\n",
        "\n",
        "descricao = req_dic['weather'][0]['description']\n",
        "\n",
        "temperatura = req_dic['main']['temp']- convert\n",
        "\n",
        "print(descricao,f\"{temperatura} º C\")"
      ]
    }
  ]
}