{
  "nbformat": 4,
  "nbformat_minor": 0,
  "metadata": {
    "colab": {
      "name": "API_ATMOSFERICA.ipynb",
      "provenance": [],
      "authorship_tag": "ABX9TyM6n4MUvTlIdKg5PKccSfK/",
      "include_colab_link": true
    },
    "kernelspec": {
      "name": "python3",
      "display_name": "Python 3"
    },
    "language_info": {
      "name": "python"
    }
  },
  "cells": [
    {
      "cell_type": "markdown",
      "metadata": {
        "id": "view-in-github",
        "colab_type": "text"
      },
      "source": [
        "<a href=\"https://colab.research.google.com/github/GUIPETAV/repo_0/blob/main/API_ATMOSFERICA.ipynb\" target=\"_parent\"><img src=\"https://colab.research.google.com/assets/colab-badge.svg\" alt=\"Open In Colab\"/></a>"
      ]
    },
    {
      "cell_type": "code",
      "execution_count": 19,
      "metadata": {
        "colab": {
          "base_uri": "https://localhost:8080/"
        },
        "id": "F9WmHDis_2Dg",
        "outputId": "73a3b527-a0c7-4522-9851-c479040d91db"
      },
      "outputs": [
        {
          "output_type": "stream",
          "name": "stdout",
          "text": [
            "{'co': 327.11, 'no': 0.01, 'no2': 6.51, 'o3': 37.55, 'so2': 3.43, 'pm2_5': 4.68, 'pm10': 6.99, 'nh3': 0.92}\n"
          ]
        }
      ],
      "source": [
        "import requests\n",
        "cidade ='vitoria'\n",
        "Api_key = 'fd6c8bc36a00d84fed980a169a9300c2'\n",
        "\n",
        "lat = -20.3222\n",
        "\n",
        "lon = -40.3381\n",
        "\n",
        "Link = f'https://api.openweathermap.org/data/2.5/air_pollution?lat={lat}&lon={lon}&appid={Api_key}&lang=pt_BR'\n",
        "\n",
        "Req_1 = requests.get(Link)\n",
        "\n",
        "Req_2 = Req_1.json()\n",
        "\n",
        "Par = Req_2['list'][0]['components']\n",
        "\n",
        "#print(Req_1.json())\n",
        "\n",
        "print(Par)\n",
        "\n"
      ]
    }
  ]
}