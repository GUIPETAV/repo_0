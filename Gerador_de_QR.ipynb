{
  "nbformat": 4,
  "nbformat_minor": 0,
  "metadata": {
    "colab": {
      "name": "Gerador_de_QR.ipynb",
      "provenance": [],
      "mount_file_id": "13XOmoMZXtrxI6ZoThIxD66w8_iSQNwG8",
      "authorship_tag": "ABX9TyNkkZNBPPr2FN6B3u065/R1",
      "include_colab_link": true
    },
    "kernelspec": {
      "name": "python3",
      "display_name": "Python 3"
    },
    "language_info": {
      "name": "python"
    }
  },
  "cells": [
    {
      "cell_type": "markdown",
      "metadata": {
        "id": "view-in-github",
        "colab_type": "text"
      },
      "source": [
        "<a href=\"https://colab.research.google.com/github/GUIPETAV/repo_0/blob/main/Gerador_de_QR.ipynb\" target=\"_parent\"><img src=\"https://colab.research.google.com/assets/colab-badge.svg\" alt=\"Open In Colab\"/></a>"
      ]
    },
    {
      "cell_type": "code",
      "source": [
        "pip install qrcode"
      ],
      "metadata": {
        "colab": {
          "base_uri": "https://localhost:8080/"
        },
        "id": "estqiEC_DoIt",
        "outputId": "206ec62f-6d38-4b55-857b-c469991af928"
      },
      "execution_count": null,
      "outputs": [
        {
          "output_type": "stream",
          "name": "stdout",
          "text": [
            "Collecting qrcode\n",
            "  Downloading qrcode-7.3.1.tar.gz (43 kB)\n",
            "\u001b[?25l\r\u001b[K     |███████▌                        | 10 kB 22.1 MB/s eta 0:00:01\r\u001b[K     |███████████████                 | 20 kB 11.8 MB/s eta 0:00:01\r\u001b[K     |██████████████████████▋         | 30 kB 9.5 MB/s eta 0:00:01\r\u001b[K     |██████████████████████████████▏ | 40 kB 8.5 MB/s eta 0:00:01\r\u001b[K     |████████████████████████████████| 43 kB 981 kB/s \n",
            "\u001b[?25hBuilding wheels for collected packages: qrcode\n",
            "  Building wheel for qrcode (setup.py) ... \u001b[?25l\u001b[?25hdone\n",
            "  Created wheel for qrcode: filename=qrcode-7.3.1-py3-none-any.whl size=40402 sha256=9f46a12176886e9d3d3b81874083a0a8283cb3eb3d055aec7ca12c1335ce0b2d\n",
            "  Stored in directory: /root/.cache/pip/wheels/93/d7/39/a4111be2cfb8e679938aa671a37888b6afb1f9e7d748e94492\n",
            "Successfully built qrcode\n",
            "Installing collected packages: qrcode\n",
            "Successfully installed qrcode-7.3.1\n"
          ]
        }
      ]
    },
    {
      "cell_type": "code",
      "source": [
        "import qrcode\n",
        "\n",
        "image_QR = qrcode.make('https://colab.research.google.com/drive/1wT8qrlfAeEwwioTqFKwuTDVgWSmZmPij#scrollTo=wjql6sY7upYJ')\n",
        "\n",
        "image_QR.save('resumo_git.png')"
      ],
      "metadata": {
        "id": "pQMr212MGMj2"
      },
      "execution_count": null,
      "outputs": []
    }
  ]
}